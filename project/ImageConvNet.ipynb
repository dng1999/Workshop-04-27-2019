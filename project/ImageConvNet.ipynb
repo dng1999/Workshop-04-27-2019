{
 "cells": [
  {
   "cell_type": "code",
   "execution_count": 1,
   "metadata": {},
   "outputs": [
    {
     "name": "stderr",
     "output_type": "stream",
     "text": [
      "Using TensorFlow backend.\n"
     ]
    }
   ],
   "source": [
    "#  APIs from Keras we will be using\n",
    "from keras.preprocessing.image import ImageDataGenerator, array_to_img, img_to_array, load_img\n",
    "from keras.models import Sequential\n",
    "from keras.layers import Conv2D, MaxPooling2D\n",
    "from keras.layers import Activation, Dropout, Flatten, Dense\n",
    "from keras import backend as K"
   ]
  },
  {
   "cell_type": "code",
   "execution_count": 2,
   "metadata": {},
   "outputs": [],
   "source": [
    "\"\"\"\n",
    "Here we declare all important parameters we will be using\n",
    "throughout the development such as dimensions of images,\n",
    "path to train & validation datasets etc...\n",
    "\"\"\"\n",
    "img_width, img_height = 150, 150\n",
    "train_data_dir = '../dataset/train'\n",
    "validation_data_dir = '../dataset/validation'\n",
    "nb_train_samples = 2000\n",
    "nb_validation_samples = 800\n",
    "epochs = 50\n",
    "batch_size = 16"
   ]
  },
  {
   "cell_type": "code",
   "execution_count": 3,
   "metadata": {},
   "outputs": [],
   "source": [
    "#  We need to check here how Keras.json is setup\n",
    "#  Channels == 3 since we have RGB values in our pixels\n",
    "#  channels_first means we img[0] indicates RGB images, img[1] is width of the image, img[2] is the height of the img\n",
    "if K.image_data_format() == 'channels_first':\n",
    "    input_shape = (3, img_width, img_height)\n",
    "else:\n",
    "    input_shape = (img_width, img_height, 3)"
   ]
  },
  {
   "cell_type": "code",
   "execution_count": 4,
   "metadata": {},
   "outputs": [
    {
     "name": "stdout",
     "output_type": "stream",
     "text": [
      "WARNING:tensorflow:From /home/peterson/Desktop/workshop_04-27-2019/project/venv/lib/python3.6/site-packages/tensorflow/python/framework/op_def_library.py:263: colocate_with (from tensorflow.python.framework.ops) is deprecated and will be removed in a future version.\n",
      "Instructions for updating:\n",
      "Colocations handled automatically by placer.\n"
     ]
    }
   ],
   "source": [
    "#  Instantiation of Keras Object for Convulation Neural Networks\n",
    "model = Sequential()\n",
    "\n",
    "#  the first layer needs to know what kind of shape to expect\n",
    "#  next layers will automatically infer the dimensions\n",
    "model.add(Conv2D(32, (3, 3), input_shape=input_shape))\n",
    "\n",
    "#  here we specify function which filter will apply to the image \n",
    "model.add(Activation('relu'))\n",
    "\n",
    "#  subsampling, we're specifying just the size of filter\n",
    "model.add(MaxPooling2D(pool_size=(2, 2)))\n",
    "\n",
    "model.add(Conv2D(32, (3, 3)))\n",
    "model.add(Activation('relu'))\n",
    "model.add(MaxPooling2D(pool_size=(2, 2)))\n",
    "\n",
    "model.add(Conv2D(64, (3, 3)))\n",
    "model.add(Activation('relu'))\n",
    "model.add(MaxPooling2D(pool_size=(2, 2)))"
   ]
  },
  {
   "cell_type": "code",
   "execution_count": 5,
   "metadata": {},
   "outputs": [
    {
     "name": "stdout",
     "output_type": "stream",
     "text": [
      "WARNING:tensorflow:From /home/peterson/Desktop/workshop_04-27-2019/project/venv/lib/python3.6/site-packages/keras/backend/tensorflow_backend.py:3445: calling dropout (from tensorflow.python.ops.nn_ops) with keep_prob is deprecated and will be removed in a future version.\n",
      "Instructions for updating:\n",
      "Please use `rate` instead of `keep_prob`. Rate should be set to `rate = 1 - keep_prob`.\n"
     ]
    }
   ],
   "source": [
    "#  this is so-called dense layer. It takes data produced by ConvNet\n",
    "#  and applies yet another set of layers to come up with final one value.. 0 or 1\n",
    "model.add(Flatten())\n",
    "model.add(Dense(64))\n",
    "model.add(Activation('relu'))\n",
    "model.add(Dropout(0.5))\n",
    "model.add(Dense(1))\n",
    "model.add(Activation('sigmoid'))"
   ]
  },
  {
   "cell_type": "code",
   "execution_count": 6,
   "metadata": {},
   "outputs": [],
   "source": [
    "model.compile(loss='binary_crossentropy',\n",
    "              optimizer='rmsprop',\n",
    "              metrics=['accuracy'])"
   ]
  },
  {
   "cell_type": "code",
   "execution_count": 7,
   "metadata": {},
   "outputs": [],
   "source": [
    "# this is the augmentation configuration we will use for training\n",
    "train_datagen = ImageDataGenerator(\n",
    "    rescale=1. / 255,\n",
    "    shear_range=0.2,\n",
    "    zoom_range=0.2,\n",
    "    horizontal_flip=True)"
   ]
  },
  {
   "cell_type": "code",
   "execution_count": 8,
   "metadata": {},
   "outputs": [],
   "source": [
    "img = load_img('../dataset/train/cats/cat.199.jpg')  # this is a PIL image\n",
    "x = img_to_array(img)  # this is a Numpy array with shape (3, 150, 150)\n",
    "x = x.reshape((1,) + x.shape)  # this is a Numpy array with shape (1, 3, 150, 150)\n",
    "\n",
    "# the .flow() command below generates batches of randomly transformed images\n",
    "# and saves the results to the `preview/` directory\n",
    "i = 0\n",
    "for batch in train_datagen.flow(x, batch_size=1,\n",
    "                          save_to_dir='../dataset/preview', save_prefix='cat', save_format='jpeg'):\n",
    "    i += 1\n",
    "    if i > 20:\n",
    "        break  # otherwise the generator would loop indefinitely"
   ]
  },
  {
   "cell_type": "code",
   "execution_count": null,
   "metadata": {},
   "outputs": [
    {
     "name": "stdout",
     "output_type": "stream",
     "text": [
      "Found 2000 images belonging to 2 classes.\n",
      "Found 800 images belonging to 2 classes.\n",
      "WARNING:tensorflow:From /home/peterson/Desktop/workshop_04-27-2019/project/venv/lib/python3.6/site-packages/tensorflow/python/ops/math_ops.py:3066: to_int32 (from tensorflow.python.ops.math_ops) is deprecated and will be removed in a future version.\n",
      "Instructions for updating:\n",
      "Use tf.cast instead.\n",
      "Epoch 1/50\n",
      "125/125 [==============================] - 79s 629ms/step - loss: 0.7172 - acc: 0.5195 - val_loss: 0.6859 - val_acc: 0.5000\n",
      "Epoch 2/50\n",
      "125/125 [==============================] - 87s 697ms/step - loss: 0.6897 - acc: 0.5660 - val_loss: 0.6302 - val_acc: 0.6488\n",
      "Epoch 3/50\n",
      "125/125 [==============================] - 83s 664ms/step - loss: 0.6498 - acc: 0.6150 - val_loss: 0.6273 - val_acc: 0.6575\n",
      "Epoch 4/50\n",
      "125/125 [==============================] - 92s 736ms/step - loss: 0.6113 - acc: 0.6755 - val_loss: 0.6917 - val_acc: 0.6100\n",
      "Epoch 5/50\n",
      "125/125 [==============================] - 82s 656ms/step - loss: 0.6115 - acc: 0.6670 - val_loss: 0.5529 - val_acc: 0.7063\n",
      "Epoch 6/50\n",
      "125/125 [==============================] - 86s 690ms/step - loss: 0.5882 - acc: 0.7020 - val_loss: 0.6109 - val_acc: 0.6700\n",
      "Epoch 7/50\n",
      "125/125 [==============================] - 83s 665ms/step - loss: 0.5780 - acc: 0.7115 - val_loss: 0.5682 - val_acc: 0.7075\n",
      "Epoch 8/50\n",
      "125/125 [==============================] - 87s 698ms/step - loss: 0.5701 - acc: 0.7165 - val_loss: 0.5376 - val_acc: 0.7175\n",
      "Epoch 9/50\n",
      "125/125 [==============================] - 87s 693ms/step - loss: 0.5501 - acc: 0.7240 - val_loss: 0.5802 - val_acc: 0.6725\n",
      "Epoch 10/50\n",
      "125/125 [==============================] - 86s 684ms/step - loss: 0.5448 - acc: 0.7285 - val_loss: 0.5338 - val_acc: 0.7262\n",
      "Epoch 11/50\n",
      "125/125 [==============================] - 84s 671ms/step - loss: 0.5383 - acc: 0.7565 - val_loss: 0.5279 - val_acc: 0.7350\n",
      "Epoch 12/50\n",
      "125/125 [==============================] - 84s 674ms/step - loss: 0.5196 - acc: 0.7550 - val_loss: 0.4969 - val_acc: 0.7550\n",
      "Epoch 13/50\n",
      "125/125 [==============================] - 84s 671ms/step - loss: 0.5064 - acc: 0.7650 - val_loss: 0.5080 - val_acc: 0.7388\n",
      "Epoch 14/50\n",
      "125/125 [==============================] - 84s 672ms/step - loss: 0.4961 - acc: 0.7725 - val_loss: 0.5909 - val_acc: 0.7125\n",
      "Epoch 15/50\n",
      "125/125 [==============================] - 82s 658ms/step - loss: 0.5007 - acc: 0.7670 - val_loss: 0.4900 - val_acc: 0.7550\n",
      "Epoch 16/50\n",
      "125/125 [==============================] - 83s 660ms/step - loss: 0.4823 - acc: 0.7650 - val_loss: 0.5561 - val_acc: 0.7575\n",
      "Epoch 17/50\n",
      "125/125 [==============================] - 84s 676ms/step - loss: 0.4824 - acc: 0.7830 - val_loss: 0.5249 - val_acc: 0.7538\n",
      "Epoch 18/50\n",
      "125/125 [==============================] - 82s 658ms/step - loss: 0.4840 - acc: 0.7850 - val_loss: 0.4910 - val_acc: 0.7688\n",
      "Epoch 19/50\n",
      "125/125 [==============================] - 88s 702ms/step - loss: 0.4517 - acc: 0.7925 - val_loss: 0.5032 - val_acc: 0.7612\n",
      "Epoch 20/50\n",
      "125/125 [==============================] - 85s 682ms/step - loss: 0.4733 - acc: 0.7740 - val_loss: 0.4822 - val_acc: 0.7525\n",
      "Epoch 21/50\n",
      "125/125 [==============================] - 85s 679ms/step - loss: 0.4409 - acc: 0.8035 - val_loss: 0.5151 - val_acc: 0.7688\n",
      "Epoch 22/50\n",
      "125/125 [==============================] - 86s 689ms/step - loss: 0.4717 - acc: 0.7930 - val_loss: 0.4739 - val_acc: 0.7575\n",
      "Epoch 23/50\n",
      "125/125 [==============================] - 87s 696ms/step - loss: 0.4611 - acc: 0.7885 - val_loss: 0.5378 - val_acc: 0.7412\n",
      "Epoch 24/50\n",
      "125/125 [==============================] - 86s 687ms/step - loss: 0.4681 - acc: 0.7925 - val_loss: 0.4912 - val_acc: 0.7575\n",
      "Epoch 25/50\n",
      "125/125 [==============================] - 85s 683ms/step - loss: 0.4624 - acc: 0.8025 - val_loss: 0.5095 - val_acc: 0.7538\n",
      "Epoch 26/50\n",
      "125/125 [==============================] - 86s 691ms/step - loss: 0.4467 - acc: 0.8055 - val_loss: 0.5329 - val_acc: 0.7550\n",
      "Epoch 27/50\n",
      "125/125 [==============================] - 87s 693ms/step - loss: 0.4514 - acc: 0.8085 - val_loss: 0.5042 - val_acc: 0.7662\n",
      "Epoch 28/50\n",
      "125/125 [==============================] - 87s 699ms/step - loss: 0.4461 - acc: 0.8060 - val_loss: 0.5068 - val_acc: 0.7412\n",
      "Epoch 29/50\n",
      "125/125 [==============================] - 87s 696ms/step - loss: 0.4381 - acc: 0.8180 - val_loss: 0.5204 - val_acc: 0.7800\n",
      "Epoch 30/50\n",
      "125/125 [==============================] - 91s 729ms/step - loss: 0.4346 - acc: 0.7980 - val_loss: 0.6444 - val_acc: 0.7250\n",
      "Epoch 31/50\n",
      "125/125 [==============================] - 88s 700ms/step - loss: 0.4402 - acc: 0.8120 - val_loss: 0.5255 - val_acc: 0.7625\n",
      "Epoch 32/50\n",
      "125/125 [==============================] - 88s 703ms/step - loss: 0.4324 - acc: 0.8145 - val_loss: 0.5152 - val_acc: 0.7625\n",
      "Epoch 33/50\n",
      "125/125 [==============================] - 88s 701ms/step - loss: 0.4422 - acc: 0.8205 - val_loss: 0.5436 - val_acc: 0.7762\n",
      "Epoch 34/50\n",
      "125/125 [==============================] - 90s 723ms/step - loss: 0.4304 - acc: 0.8145 - val_loss: 0.5167 - val_acc: 0.7625\n",
      "Epoch 35/50\n",
      "125/125 [==============================] - 89s 715ms/step - loss: 0.4497 - acc: 0.7980 - val_loss: 0.5114 - val_acc: 0.7575\n",
      "Epoch 36/50\n",
      "125/125 [==============================] - 88s 702ms/step - loss: 0.4441 - acc: 0.8110 - val_loss: 0.4975 - val_acc: 0.7700\n",
      "Epoch 37/50\n",
      "125/125 [==============================] - 90s 716ms/step - loss: 0.4162 - acc: 0.8270 - val_loss: 0.6277 - val_acc: 0.7750\n",
      "Epoch 38/50\n",
      "125/125 [==============================] - 89s 711ms/step - loss: 0.4162 - acc: 0.8205 - val_loss: 0.5109 - val_acc: 0.7475\n",
      "Epoch 39/50\n",
      "125/125 [==============================] - 92s 733ms/step - loss: 0.4211 - acc: 0.8175 - val_loss: 0.5946 - val_acc: 0.7425\n",
      "Epoch 40/50\n",
      "125/125 [==============================] - 90s 722ms/step - loss: 0.4443 - acc: 0.8060 - val_loss: 0.4930 - val_acc: 0.7700\n",
      "Epoch 41/50\n",
      "125/125 [==============================] - 85s 681ms/step - loss: 0.4221 - acc: 0.8220 - val_loss: 0.4958 - val_acc: 0.7788\n",
      "Epoch 42/50\n",
      "125/125 [==============================] - 86s 690ms/step - loss: 0.4199 - acc: 0.8160 - val_loss: 0.6965 - val_acc: 0.7675\n",
      "Epoch 43/50\n",
      "125/125 [==============================] - 88s 705ms/step - loss: 0.4098 - acc: 0.8220 - val_loss: 0.6741 - val_acc: 0.7612\n",
      "Epoch 44/50\n",
      "  5/125 [>.............................] - ETA: 1:12 - loss: 0.3864 - acc: 0.8375"
     ]
    }
   ],
   "source": [
    "# this is the augmentation configuration we will use for testing:\n",
    "# only rescaling\n",
    "test_datagen = ImageDataGenerator(rescale=1. / 255)\n",
    "\n",
    "train_generator = train_datagen.flow_from_directory(\n",
    "    train_data_dir,\n",
    "    target_size=(img_width, img_height),\n",
    "    batch_size=batch_size,\n",
    "    class_mode='binary')\n",
    "\n",
    "validation_generator = test_datagen.flow_from_directory(\n",
    "    validation_data_dir,\n",
    "    target_size=(img_width, img_height),\n",
    "    batch_size=batch_size,\n",
    "    class_mode='binary')\n",
    "\n",
    "model.fit_generator(\n",
    "    train_generator,\n",
    "    steps_per_epoch=nb_train_samples // batch_size,\n",
    "    epochs=epochs,\n",
    "    validation_data=validation_generator,\n",
    "    validation_steps=nb_validation_samples // batch_size)\n",
    "\n",
    "model.save_weights('first_try.h5')  # always save your weights after training or during training"
   ]
  },
  {
   "cell_type": "code",
   "execution_count": null,
   "metadata": {},
   "outputs": [],
   "source": [
    "new_img = load_img(\"../dataset/validation/cats.199.jpg\")\n",
    "print(model.predict(new_img))"
   ]
  },
  {
   "cell_type": "code",
   "execution_count": null,
   "metadata": {},
   "outputs": [],
   "source": []
  }
 ],
 "metadata": {
  "kernelspec": {
   "display_name": "Python 3",
   "language": "python",
   "name": "python3"
  },
  "language_info": {
   "codemirror_mode": {
    "name": "ipython",
    "version": 3
   },
   "file_extension": ".py",
   "mimetype": "text/x-python",
   "name": "python",
   "nbconvert_exporter": "python",
   "pygments_lexer": "ipython3",
   "version": "3.6.7"
  }
 },
 "nbformat": 4,
 "nbformat_minor": 2
}
